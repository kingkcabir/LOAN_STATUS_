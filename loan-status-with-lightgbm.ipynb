{
 "cells": [
  {
   "cell_type": "code",
   "execution_count": 1,
   "id": "00d8a742",
   "metadata": {
    "_cell_guid": "b1076dfc-b9ad-4769-8c92-a6c4dae69d19",
    "_uuid": "8f2839f25d086af736a60e9eeb907d3b93b6e0e5",
    "execution": {
     "iopub.execute_input": "2024-10-02T15:43:45.770557Z",
     "iopub.status.busy": "2024-10-02T15:43:45.770120Z",
     "iopub.status.idle": "2024-10-02T15:43:46.704494Z",
     "shell.execute_reply": "2024-10-02T15:43:46.703066Z"
    },
    "papermill": {
     "duration": 0.950884,
     "end_time": "2024-10-02T15:43:46.707340",
     "exception": false,
     "start_time": "2024-10-02T15:43:45.756456",
     "status": "completed"
    },
    "tags": []
   },
   "outputs": [
    {
     "name": "stdout",
     "output_type": "stream",
     "text": [
      "/kaggle/input/playground-series-s4e10/sample_submission.csv\n",
      "/kaggle/input/playground-series-s4e10/train.csv\n",
      "/kaggle/input/playground-series-s4e10/test.csv\n"
     ]
    }
   ],
   "source": [
    "# This Python 3 environment comes with many helpful analytics libraries installed\n",
    "# It is defined by the kaggle/python Docker image: https://github.com/kaggle/docker-python\n",
    "# For example, here's several helpful packages to load\n",
    "\n",
    "import numpy as np # linear algebra\n",
    "import pandas as pd # data processing, CSV file I/O (e.g. pd.read_csv)\n",
    "\n",
    "# Input data files are available in the read-only \"../input/\" directory\n",
    "# For example, running this (by clicking run or pressing Shift+Enter) will list all files under the input directory\n",
    "\n",
    "import os\n",
    "for dirname, _, filenames in os.walk('/kaggle/input'):\n",
    "    for filename in filenames:\n",
    "        print(os.path.join(dirname, filename))\n",
    "\n",
    "# You can write up to 20GB to the current directory (/kaggle/working/) that gets preserved as output when you create a version using \"Save & Run All\" \n",
    "# You can also write temporary files to /kaggle/temp/, but they won't be saved outside of the current session"
   ]
  },
  {
   "cell_type": "markdown",
   "id": "41b994dd",
   "metadata": {
    "papermill": {
     "duration": 0.010733,
     "end_time": "2024-10-02T15:43:46.729396",
     "exception": false,
     "start_time": "2024-10-02T15:43:46.718663",
     "status": "completed"
    },
    "tags": []
   },
   "source": [
    "***MODULES***"
   ]
  },
  {
   "cell_type": "code",
   "execution_count": 2,
   "id": "90ad686e",
   "metadata": {
    "execution": {
     "iopub.execute_input": "2024-10-02T15:43:46.754244Z",
     "iopub.status.busy": "2024-10-02T15:43:46.752995Z",
     "iopub.status.idle": "2024-10-02T15:43:50.109206Z",
     "shell.execute_reply": "2024-10-02T15:43:50.107970Z"
    },
    "papermill": {
     "duration": 3.371549,
     "end_time": "2024-10-02T15:43:50.111999",
     "exception": false,
     "start_time": "2024-10-02T15:43:46.740450",
     "status": "completed"
    },
    "tags": []
   },
   "outputs": [],
   "source": [
    "import seaborn as sns\n",
    "import matplotlib.pyplot as plt\n",
    "from sklearn.preprocessing import LabelEncoder\n",
    "from sklearn.preprocessing import MinMaxScaler \n",
    "from sklearn.model_selection import train_test_split \n",
    "import lightgbm as lgb \n",
    "from sklearn.metrics import roc_auc_score "
   ]
  },
  {
   "cell_type": "markdown",
   "id": "ca9c820b",
   "metadata": {
    "papermill": {
     "duration": 0.010851,
     "end_time": "2024-10-02T15:43:50.134392",
     "exception": false,
     "start_time": "2024-10-02T15:43:50.123541",
     "status": "completed"
    },
    "tags": []
   },
   "source": [
    "***LOADING THE DATASETS***"
   ]
  },
  {
   "cell_type": "code",
   "execution_count": 3,
   "id": "83ff9700",
   "metadata": {
    "execution": {
     "iopub.execute_input": "2024-10-02T15:43:50.159607Z",
     "iopub.status.busy": "2024-10-02T15:43:50.158928Z",
     "iopub.status.idle": "2024-10-02T15:43:50.646370Z",
     "shell.execute_reply": "2024-10-02T15:43:50.645075Z"
    },
    "papermill": {
     "duration": 0.502842,
     "end_time": "2024-10-02T15:43:50.649263",
     "exception": false,
     "start_time": "2024-10-02T15:43:50.146421",
     "status": "completed"
    },
    "tags": []
   },
   "outputs": [
    {
     "name": "stdout",
     "output_type": "stream",
     "text": [
      "Training dataset:\n",
      "Duplicate: False\n",
      "Null: False\n",
      "Missing_value: 0\n",
      "Types:\n",
      "id                              int64\n",
      "person_age                      int64\n",
      "person_income                   int64\n",
      "person_home_ownership          object\n",
      "person_emp_length             float64\n",
      "loan_intent                    object\n",
      "loan_grade                     object\n",
      "loan_amnt                       int64\n",
      "loan_int_rate                 float64\n",
      "loan_percent_income           float64\n",
      "cb_person_default_on_file      object\n",
      "cb_person_cred_hist_length      int64\n",
      "loan_status                     int64\n",
      "dtype: object\n",
      "Shape: (58645, 13)\n",
      "Test dataset:\n",
      "Duplicate: False\n",
      "Null: False\n",
      "Missing_value: 0\n",
      "Types:\n",
      "id                              int64\n",
      "person_age                      int64\n",
      "person_income                   int64\n",
      "person_home_ownership          object\n",
      "person_emp_length             float64\n",
      "loan_intent                    object\n",
      "loan_grade                     object\n",
      "loan_amnt                       int64\n",
      "loan_int_rate                 float64\n",
      "loan_percent_income           float64\n",
      "cb_person_default_on_file      object\n",
      "cb_person_cred_hist_length      int64\n",
      "dtype: object\n",
      "Shape: (39098, 12)\n"
     ]
    }
   ],
   "source": [
    "#submission path\n",
    "subs = pd.read_csv('/kaggle/input/playground-series-s4e10/sample_submission.csv')\n",
    "#training path\n",
    "trn = pd.read_csv('/kaggle/input/playground-series-s4e10/train.csv')\n",
    "#testing path\n",
    "tst = pd.read_csv('/kaggle/input/playground-series-s4e10/test.csv')\n",
    "\n",
    "class get_summary:\n",
    "    def __init__(self, x):\n",
    "        self.x = x\n",
    "    def data_set(self):\n",
    "        #checks for duplicate\n",
    "        duplicate = self.x.duplicated().any()\n",
    "        #drop duplicates \n",
    "        if duplicate == True:\n",
    "            self.x.drop_duplicates(inplace=True)\n",
    "            self.x.reset_index(drop=True)\n",
    "        #checks for empty values\n",
    "        null = self.x.isna().sum().any()\n",
    "        #missing values\n",
    "        total_missing = self.x.isnull().sum().sum()\n",
    "        #data types\n",
    "        data_type = self.x.dtypes\n",
    "        #shape\n",
    "        shapes = self.x.shape\n",
    "        return f\"Duplicate: {duplicate}\\nNull: {null}\\nMissing_value: {total_missing}\\nTypes:\\n{data_type}\\nShape: {shapes}\"\n",
    "    \n",
    "print(f\"Training dataset:\\n{get_summary(trn).data_set()}\\nTest dataset:\\n{get_summary(tst).data_set()}\")"
   ]
  },
  {
   "cell_type": "code",
   "execution_count": 4,
   "id": "0f0542eb",
   "metadata": {
    "execution": {
     "iopub.execute_input": "2024-10-02T15:43:50.673566Z",
     "iopub.status.busy": "2024-10-02T15:43:50.673168Z",
     "iopub.status.idle": "2024-10-02T15:43:50.698996Z",
     "shell.execute_reply": "2024-10-02T15:43:50.697733Z"
    },
    "papermill": {
     "duration": 0.040949,
     "end_time": "2024-10-02T15:43:50.701583",
     "exception": false,
     "start_time": "2024-10-02T15:43:50.660634",
     "status": "completed"
    },
    "tags": []
   },
   "outputs": [
    {
     "data": {
      "text/html": [
       "<div>\n",
       "<style scoped>\n",
       "    .dataframe tbody tr th:only-of-type {\n",
       "        vertical-align: middle;\n",
       "    }\n",
       "\n",
       "    .dataframe tbody tr th {\n",
       "        vertical-align: top;\n",
       "    }\n",
       "\n",
       "    .dataframe thead th {\n",
       "        text-align: right;\n",
       "    }\n",
       "</style>\n",
       "<table border=\"1\" class=\"dataframe\">\n",
       "  <thead>\n",
       "    <tr style=\"text-align: right;\">\n",
       "      <th></th>\n",
       "      <th>id</th>\n",
       "      <th>person_age</th>\n",
       "      <th>person_income</th>\n",
       "      <th>person_home_ownership</th>\n",
       "      <th>person_emp_length</th>\n",
       "      <th>loan_intent</th>\n",
       "      <th>loan_grade</th>\n",
       "      <th>loan_amnt</th>\n",
       "      <th>loan_int_rate</th>\n",
       "      <th>loan_percent_income</th>\n",
       "      <th>cb_person_default_on_file</th>\n",
       "      <th>cb_person_cred_hist_length</th>\n",
       "      <th>loan_status</th>\n",
       "    </tr>\n",
       "  </thead>\n",
       "  <tbody>\n",
       "    <tr>\n",
       "      <th>0</th>\n",
       "      <td>0</td>\n",
       "      <td>37</td>\n",
       "      <td>35000</td>\n",
       "      <td>RENT</td>\n",
       "      <td>0.0</td>\n",
       "      <td>EDUCATION</td>\n",
       "      <td>B</td>\n",
       "      <td>6000</td>\n",
       "      <td>11.49</td>\n",
       "      <td>0.17</td>\n",
       "      <td>N</td>\n",
       "      <td>14</td>\n",
       "      <td>0</td>\n",
       "    </tr>\n",
       "    <tr>\n",
       "      <th>1</th>\n",
       "      <td>1</td>\n",
       "      <td>22</td>\n",
       "      <td>56000</td>\n",
       "      <td>OWN</td>\n",
       "      <td>6.0</td>\n",
       "      <td>MEDICAL</td>\n",
       "      <td>C</td>\n",
       "      <td>4000</td>\n",
       "      <td>13.35</td>\n",
       "      <td>0.07</td>\n",
       "      <td>N</td>\n",
       "      <td>2</td>\n",
       "      <td>0</td>\n",
       "    </tr>\n",
       "    <tr>\n",
       "      <th>2</th>\n",
       "      <td>2</td>\n",
       "      <td>29</td>\n",
       "      <td>28800</td>\n",
       "      <td>OWN</td>\n",
       "      <td>8.0</td>\n",
       "      <td>PERSONAL</td>\n",
       "      <td>A</td>\n",
       "      <td>6000</td>\n",
       "      <td>8.90</td>\n",
       "      <td>0.21</td>\n",
       "      <td>N</td>\n",
       "      <td>10</td>\n",
       "      <td>0</td>\n",
       "    </tr>\n",
       "    <tr>\n",
       "      <th>3</th>\n",
       "      <td>3</td>\n",
       "      <td>30</td>\n",
       "      <td>70000</td>\n",
       "      <td>RENT</td>\n",
       "      <td>14.0</td>\n",
       "      <td>VENTURE</td>\n",
       "      <td>B</td>\n",
       "      <td>12000</td>\n",
       "      <td>11.11</td>\n",
       "      <td>0.17</td>\n",
       "      <td>N</td>\n",
       "      <td>5</td>\n",
       "      <td>0</td>\n",
       "    </tr>\n",
       "  </tbody>\n",
       "</table>\n",
       "</div>"
      ],
      "text/plain": [
       "   id  person_age  person_income person_home_ownership  person_emp_length  \\\n",
       "0   0          37          35000                  RENT                0.0   \n",
       "1   1          22          56000                   OWN                6.0   \n",
       "2   2          29          28800                   OWN                8.0   \n",
       "3   3          30          70000                  RENT               14.0   \n",
       "\n",
       "  loan_intent loan_grade  loan_amnt  loan_int_rate  loan_percent_income  \\\n",
       "0   EDUCATION          B       6000          11.49                 0.17   \n",
       "1     MEDICAL          C       4000          13.35                 0.07   \n",
       "2    PERSONAL          A       6000           8.90                 0.21   \n",
       "3     VENTURE          B      12000          11.11                 0.17   \n",
       "\n",
       "  cb_person_default_on_file  cb_person_cred_hist_length  loan_status  \n",
       "0                         N                          14            0  \n",
       "1                         N                           2            0  \n",
       "2                         N                          10            0  \n",
       "3                         N                           5            0  "
      ]
     },
     "execution_count": 4,
     "metadata": {},
     "output_type": "execute_result"
    }
   ],
   "source": [
    "trn.head(4)"
   ]
  },
  {
   "cell_type": "code",
   "execution_count": 5,
   "id": "bbace588",
   "metadata": {
    "execution": {
     "iopub.execute_input": "2024-10-02T15:43:50.727430Z",
     "iopub.status.busy": "2024-10-02T15:43:50.726534Z",
     "iopub.status.idle": "2024-10-02T15:43:50.742711Z",
     "shell.execute_reply": "2024-10-02T15:43:50.741711Z"
    },
    "papermill": {
     "duration": 0.031792,
     "end_time": "2024-10-02T15:43:50.745394",
     "exception": false,
     "start_time": "2024-10-02T15:43:50.713602",
     "status": "completed"
    },
    "tags": []
   },
   "outputs": [],
   "source": [
    "#dropping 'id'\n",
    "trn.drop('id', axis=1, inplace=True)\n",
    "tst.drop('id', axis=1, inplace=True)"
   ]
  },
  {
   "cell_type": "markdown",
   "id": "45f66fdd",
   "metadata": {
    "papermill": {
     "duration": 0.011862,
     "end_time": "2024-10-02T15:43:50.768971",
     "exception": false,
     "start_time": "2024-10-02T15:43:50.757109",
     "status": "completed"
    },
    "tags": []
   },
   "source": [
    "***ANALYSIS***"
   ]
  },
  {
   "cell_type": "code",
   "execution_count": 6,
   "id": "8f67c960",
   "metadata": {
    "execution": {
     "iopub.execute_input": "2024-10-02T15:43:50.794928Z",
     "iopub.status.busy": "2024-10-02T15:43:50.793851Z",
     "iopub.status.idle": "2024-10-02T15:43:50.850427Z",
     "shell.execute_reply": "2024-10-02T15:43:50.849189Z"
    },
    "papermill": {
     "duration": 0.072036,
     "end_time": "2024-10-02T15:43:50.852955",
     "exception": false,
     "start_time": "2024-10-02T15:43:50.780919",
     "status": "completed"
    },
    "tags": []
   },
   "outputs": [
    {
     "data": {
      "text/html": [
       "<div>\n",
       "<style scoped>\n",
       "    .dataframe tbody tr th:only-of-type {\n",
       "        vertical-align: middle;\n",
       "    }\n",
       "\n",
       "    .dataframe tbody tr th {\n",
       "        vertical-align: top;\n",
       "    }\n",
       "\n",
       "    .dataframe thead th {\n",
       "        text-align: right;\n",
       "    }\n",
       "</style>\n",
       "<table border=\"1\" class=\"dataframe\">\n",
       "  <thead>\n",
       "    <tr style=\"text-align: right;\">\n",
       "      <th></th>\n",
       "      <th>count</th>\n",
       "      <th>mean</th>\n",
       "      <th>std</th>\n",
       "      <th>min</th>\n",
       "      <th>25%</th>\n",
       "      <th>50%</th>\n",
       "      <th>75%</th>\n",
       "      <th>max</th>\n",
       "    </tr>\n",
       "  </thead>\n",
       "  <tbody>\n",
       "    <tr>\n",
       "      <th>person_age</th>\n",
       "      <td>58645.0</td>\n",
       "      <td>27.550857</td>\n",
       "      <td>6.033216</td>\n",
       "      <td>20.00</td>\n",
       "      <td>23.00</td>\n",
       "      <td>26.00</td>\n",
       "      <td>30.00</td>\n",
       "      <td>123.00</td>\n",
       "    </tr>\n",
       "    <tr>\n",
       "      <th>person_income</th>\n",
       "      <td>58645.0</td>\n",
       "      <td>64046.172871</td>\n",
       "      <td>37931.106978</td>\n",
       "      <td>4200.00</td>\n",
       "      <td>42000.00</td>\n",
       "      <td>58000.00</td>\n",
       "      <td>75600.00</td>\n",
       "      <td>1900000.00</td>\n",
       "    </tr>\n",
       "    <tr>\n",
       "      <th>person_emp_length</th>\n",
       "      <td>58645.0</td>\n",
       "      <td>4.701015</td>\n",
       "      <td>3.959784</td>\n",
       "      <td>0.00</td>\n",
       "      <td>2.00</td>\n",
       "      <td>4.00</td>\n",
       "      <td>7.00</td>\n",
       "      <td>123.00</td>\n",
       "    </tr>\n",
       "    <tr>\n",
       "      <th>loan_amnt</th>\n",
       "      <td>58645.0</td>\n",
       "      <td>9217.556518</td>\n",
       "      <td>5563.807384</td>\n",
       "      <td>500.00</td>\n",
       "      <td>5000.00</td>\n",
       "      <td>8000.00</td>\n",
       "      <td>12000.00</td>\n",
       "      <td>35000.00</td>\n",
       "    </tr>\n",
       "    <tr>\n",
       "      <th>loan_int_rate</th>\n",
       "      <td>58645.0</td>\n",
       "      <td>10.677874</td>\n",
       "      <td>3.034697</td>\n",
       "      <td>5.42</td>\n",
       "      <td>7.88</td>\n",
       "      <td>10.75</td>\n",
       "      <td>12.99</td>\n",
       "      <td>23.22</td>\n",
       "    </tr>\n",
       "    <tr>\n",
       "      <th>loan_percent_income</th>\n",
       "      <td>58645.0</td>\n",
       "      <td>0.159238</td>\n",
       "      <td>0.091692</td>\n",
       "      <td>0.00</td>\n",
       "      <td>0.09</td>\n",
       "      <td>0.14</td>\n",
       "      <td>0.21</td>\n",
       "      <td>0.83</td>\n",
       "    </tr>\n",
       "    <tr>\n",
       "      <th>cb_person_cred_hist_length</th>\n",
       "      <td>58645.0</td>\n",
       "      <td>5.813556</td>\n",
       "      <td>4.029196</td>\n",
       "      <td>2.00</td>\n",
       "      <td>3.00</td>\n",
       "      <td>4.00</td>\n",
       "      <td>8.00</td>\n",
       "      <td>30.00</td>\n",
       "    </tr>\n",
       "    <tr>\n",
       "      <th>loan_status</th>\n",
       "      <td>58645.0</td>\n",
       "      <td>0.142382</td>\n",
       "      <td>0.349445</td>\n",
       "      <td>0.00</td>\n",
       "      <td>0.00</td>\n",
       "      <td>0.00</td>\n",
       "      <td>0.00</td>\n",
       "      <td>1.00</td>\n",
       "    </tr>\n",
       "  </tbody>\n",
       "</table>\n",
       "</div>"
      ],
      "text/plain": [
       "                              count          mean           std      min  \\\n",
       "person_age                  58645.0     27.550857      6.033216    20.00   \n",
       "person_income               58645.0  64046.172871  37931.106978  4200.00   \n",
       "person_emp_length           58645.0      4.701015      3.959784     0.00   \n",
       "loan_amnt                   58645.0   9217.556518   5563.807384   500.00   \n",
       "loan_int_rate               58645.0     10.677874      3.034697     5.42   \n",
       "loan_percent_income         58645.0      0.159238      0.091692     0.00   \n",
       "cb_person_cred_hist_length  58645.0      5.813556      4.029196     2.00   \n",
       "loan_status                 58645.0      0.142382      0.349445     0.00   \n",
       "\n",
       "                                 25%       50%       75%         max  \n",
       "person_age                     23.00     26.00     30.00      123.00  \n",
       "person_income               42000.00  58000.00  75600.00  1900000.00  \n",
       "person_emp_length               2.00      4.00      7.00      123.00  \n",
       "loan_amnt                    5000.00   8000.00  12000.00    35000.00  \n",
       "loan_int_rate                   7.88     10.75     12.99       23.22  \n",
       "loan_percent_income             0.09      0.14      0.21        0.83  \n",
       "cb_person_cred_hist_length      3.00      4.00      8.00       30.00  \n",
       "loan_status                     0.00      0.00      0.00        1.00  "
      ]
     },
     "execution_count": 6,
     "metadata": {},
     "output_type": "execute_result"
    }
   ],
   "source": [
    "trn.describe().T"
   ]
  },
  {
   "cell_type": "code",
   "execution_count": 7,
   "id": "15815d9b",
   "metadata": {
    "execution": {
     "iopub.execute_input": "2024-10-02T15:43:50.878509Z",
     "iopub.status.busy": "2024-10-02T15:43:50.878055Z",
     "iopub.status.idle": "2024-10-02T15:43:53.694581Z",
     "shell.execute_reply": "2024-10-02T15:43:53.693346Z"
    },
    "papermill": {
     "duration": 2.832344,
     "end_time": "2024-10-02T15:43:53.697197",
     "exception": false,
     "start_time": "2024-10-02T15:43:50.864853",
     "status": "completed"
    },
    "tags": []
   },
   "outputs": [
    {
     "data": {
      "image/png": "[encoded data removed]",
      "text/plain": [
       "<Figure size 1500x500 with 1 Axes>"
      ]
     },
     "metadata": {},
     "output_type": "display_data"
    }
   ],
   "source": [
    "plt.figure(figsize=(15, 5))\n",
    "sns.barplot(x=trn['person_age'], y=trn['person_income'])\n",
    "plt.show()"
   ]
  },
  {
   "cell_type": "code",
   "execution_count": 8,
   "id": "862d4d3a",
   "metadata": {
    "execution": {
     "iopub.execute_input": "2024-10-02T15:43:53.724410Z",
     "iopub.status.busy": "2024-10-02T15:43:53.723928Z",
     "iopub.status.idle": "2024-10-02T15:43:53.940647Z",
     "shell.execute_reply": "2024-10-02T15:43:53.939081Z"
    },
    "papermill": {
     "duration": 0.235251,
     "end_time": "2024-10-02T15:43:53.945172",
     "exception": false,
     "start_time": "2024-10-02T15:43:53.709921",
     "status": "completed"
    },
    "tags": []
   },
   "outputs": [
    {
     "data": {
      "image/png": "[encoded data removed]",
      "text/plain": [
       "<Figure size 640x480 with 1 Axes>"
      ]
     },
     "metadata": {},
     "output_type": "display_data"
    }
   ],
   "source": [
    "def pie_chat(data):\n",
    "    plt.pie(data.value_counts(),\n",
    "            labels=data.unique(),\n",
    "            autopct='%.2f%%',\n",
    "            shadow=True,\n",
    "            pctdistance=0.5,\n",
    "            colors=('skyblue', 'indigo', 'yellow', 'green'),\n",
    "            explode=[0.01, 0.1, 0.2, 0.5])\n",
    "    plt.show()\n",
    "pie_chat(trn['person_home_ownership'])"
   ]
  },
  {
   "cell_type": "code",
   "execution_count": 9,
   "id": "0221da38",
   "metadata": {
    "execution": {
     "iopub.execute_input": "2024-10-02T15:43:53.997787Z",
     "iopub.status.busy": "2024-10-02T15:43:53.996721Z",
     "iopub.status.idle": "2024-10-02T15:43:54.237196Z",
     "shell.execute_reply": "2024-10-02T15:43:54.235612Z"
    },
    "papermill": {
     "duration": 0.268668,
     "end_time": "2024-10-02T15:43:54.241316",
     "exception": false,
     "start_time": "2024-10-02T15:43:53.972648",
     "status": "completed"
    },
    "tags": []
   },
   "outputs": [
    {
     "data": {
      "image/png": "[encoded data removed]",
      "text/plain": [
       "<Figure size 640x480 with 1 Axes>"
      ]
     },
     "metadata": {},
     "output_type": "display_data"
    }
   ],
   "source": [
    "def pie_chat(data):\n",
    "    plt.pie(data.value_counts(),\n",
    "            labels=data.unique(),\n",
    "            autopct='%.2f%%',\n",
    "            shadow=True,\n",
    "            pctdistance=0.5,\n",
    "            colors=('skyblue', 'indigo', 'yellow', 'green', 'blue', 'grey'),\n",
    "            explode=[0.01, 0.1, 0.2, 0.5, 0.02, 0.1])\n",
    "    plt.show()\n",
    "pie_chat(trn['loan_intent'])"
   ]
  },
  {
   "cell_type": "code",
   "execution_count": 10,
   "id": "abcc36ce",
   "metadata": {
    "execution": {
     "iopub.execute_input": "2024-10-02T15:43:54.281168Z",
     "iopub.status.busy": "2024-10-02T15:43:54.280702Z",
     "iopub.status.idle": "2024-10-02T15:43:54.484583Z",
     "shell.execute_reply": "2024-10-02T15:43:54.483401Z"
    },
    "papermill": {
     "duration": 0.222136,
     "end_time": "2024-10-02T15:43:54.487443",
     "exception": false,
     "start_time": "2024-10-02T15:43:54.265307",
     "status": "completed"
    },
    "tags": []
   },
   "outputs": [
    {
     "data": {
      "image/png": "[encoded data removed]",
      "text/plain": [
       "<Figure size 640x480 with 1 Axes>"
      ]
     },
     "metadata": {},
     "output_type": "display_data"
    }
   ],
   "source": [
    "def pie_chat(data):\n",
    "    plt.pie(data.value_counts(),\n",
    "            labels=data.unique(),\n",
    "            autopct='%.2f%%',\n",
    "            shadow=True,\n",
    "            pctdistance=0.5,\n",
    "            colors=('skyblue', 'indigo', 'red', 'yellow', 'green', 'white', 'purple'),\n",
    "            explode=[0.01, 0.1, 0.2, 0.6, 0.9, 0.3, 0.02])\n",
    "    plt.show()\n",
    "pie_chat(trn['loan_grade'])"
   ]
  },
  {
   "cell_type": "markdown",
   "id": "1d8a79c1",
   "metadata": {
    "papermill": {
     "duration": 0.014477,
     "end_time": "2024-10-02T15:43:54.516581",
     "exception": false,
     "start_time": "2024-10-02T15:43:54.502104",
     "status": "completed"
    },
    "tags": []
   },
   "source": [
    "***PREPROCESSING***"
   ]
  },
  {
   "cell_type": "code",
   "execution_count": 11,
   "id": "a2a710d1",
   "metadata": {
    "execution": {
     "iopub.execute_input": "2024-10-02T15:43:54.549331Z",
     "iopub.status.busy": "2024-10-02T15:43:54.548321Z",
     "iopub.status.idle": "2024-10-02T15:43:54.564026Z",
     "shell.execute_reply": "2024-10-02T15:43:54.562923Z"
    },
    "papermill": {
     "duration": 0.034815,
     "end_time": "2024-10-02T15:43:54.566948",
     "exception": false,
     "start_time": "2024-10-02T15:43:54.532133",
     "status": "completed"
    },
    "tags": []
   },
   "outputs": [
    {
     "data": {
      "text/html": [
       "<div>\n",
       "<style scoped>\n",
       "    .dataframe tbody tr th:only-of-type {\n",
       "        vertical-align: middle;\n",
       "    }\n",
       "\n",
       "    .dataframe tbody tr th {\n",
       "        vertical-align: top;\n",
       "    }\n",
       "\n",
       "    .dataframe thead th {\n",
       "        text-align: right;\n",
       "    }\n",
       "</style>\n",
       "<table border=\"1\" class=\"dataframe\">\n",
       "  <thead>\n",
       "    <tr style=\"text-align: right;\">\n",
       "      <th></th>\n",
       "      <th>person_home_ownership</th>\n",
       "      <th>loan_intent</th>\n",
       "      <th>loan_grade</th>\n",
       "      <th>cb_person_default_on_file</th>\n",
       "    </tr>\n",
       "  </thead>\n",
       "  <tbody>\n",
       "    <tr>\n",
       "      <th>0</th>\n",
       "      <td>RENT</td>\n",
       "      <td>EDUCATION</td>\n",
       "      <td>B</td>\n",
       "      <td>N</td>\n",
       "    </tr>\n",
       "    <tr>\n",
       "      <th>1</th>\n",
       "      <td>OWN</td>\n",
       "      <td>MEDICAL</td>\n",
       "      <td>C</td>\n",
       "      <td>N</td>\n",
       "    </tr>\n",
       "  </tbody>\n",
       "</table>\n",
       "</div>"
      ],
      "text/plain": [
       "  person_home_ownership loan_intent loan_grade cb_person_default_on_file\n",
       "0                  RENT   EDUCATION          B                         N\n",
       "1                   OWN     MEDICAL          C                         N"
      ]
     },
     "execution_count": 11,
     "metadata": {},
     "output_type": "execute_result"
    }
   ],
   "source": [
    "#categorical columns\n",
    "cat_cols = trn.select_dtypes(include=['object'])\n",
    "cat_cols.head(2)"
   ]
  },
  {
   "cell_type": "code",
   "execution_count": 12,
   "id": "b280a5ec",
   "metadata": {
    "execution": {
     "iopub.execute_input": "2024-10-02T15:43:54.598741Z",
     "iopub.status.busy": "2024-10-02T15:43:54.598298Z",
     "iopub.status.idle": "2024-10-02T15:43:54.617285Z",
     "shell.execute_reply": "2024-10-02T15:43:54.616106Z"
    },
    "papermill": {
     "duration": 0.037833,
     "end_time": "2024-10-02T15:43:54.619808",
     "exception": false,
     "start_time": "2024-10-02T15:43:54.581975",
     "status": "completed"
    },
    "tags": []
   },
   "outputs": [
    {
     "data": {
      "text/html": [
       "<div>\n",
       "<style scoped>\n",
       "    .dataframe tbody tr th:only-of-type {\n",
       "        vertical-align: middle;\n",
       "    }\n",
       "\n",
       "    .dataframe tbody tr th {\n",
       "        vertical-align: top;\n",
       "    }\n",
       "\n",
       "    .dataframe thead th {\n",
       "        text-align: right;\n",
       "    }\n",
       "</style>\n",
       "<table border=\"1\" class=\"dataframe\">\n",
       "  <thead>\n",
       "    <tr style=\"text-align: right;\">\n",
       "      <th></th>\n",
       "      <th>person_age</th>\n",
       "      <th>person_income</th>\n",
       "      <th>person_emp_length</th>\n",
       "      <th>loan_amnt</th>\n",
       "      <th>loan_int_rate</th>\n",
       "      <th>loan_percent_income</th>\n",
       "      <th>cb_person_cred_hist_length</th>\n",
       "      <th>loan_status</th>\n",
       "    </tr>\n",
       "  </thead>\n",
       "  <tbody>\n",
       "    <tr>\n",
       "      <th>0</th>\n",
       "      <td>37</td>\n",
       "      <td>35000</td>\n",
       "      <td>0.0</td>\n",
       "      <td>6000</td>\n",
       "      <td>11.49</td>\n",
       "      <td>0.17</td>\n",
       "      <td>14</td>\n",
       "      <td>0</td>\n",
       "    </tr>\n",
       "    <tr>\n",
       "      <th>1</th>\n",
       "      <td>22</td>\n",
       "      <td>56000</td>\n",
       "      <td>6.0</td>\n",
       "      <td>4000</td>\n",
       "      <td>13.35</td>\n",
       "      <td>0.07</td>\n",
       "      <td>2</td>\n",
       "      <td>0</td>\n",
       "    </tr>\n",
       "  </tbody>\n",
       "</table>\n",
       "</div>"
      ],
      "text/plain": [
       "   person_age  person_income  person_emp_length  loan_amnt  loan_int_rate  \\\n",
       "0          37          35000                0.0       6000          11.49   \n",
       "1          22          56000                6.0       4000          13.35   \n",
       "\n",
       "   loan_percent_income  cb_person_cred_hist_length  loan_status  \n",
       "0                 0.17                          14            0  \n",
       "1                 0.07                           2            0  "
      ]
     },
     "execution_count": 12,
     "metadata": {},
     "output_type": "execute_result"
    }
   ],
   "source": [
    "num_cols = trn.select_dtypes(include=['int', 'float'])\n",
    "num_cols.head(2)"
   ]
  },
  {
   "cell_type": "code",
   "execution_count": 13,
   "id": "d101c287",
   "metadata": {
    "execution": {
     "iopub.execute_input": "2024-10-02T15:43:54.651685Z",
     "iopub.status.busy": "2024-10-02T15:43:54.651274Z",
     "iopub.status.idle": "2024-10-02T15:43:54.729172Z",
     "shell.execute_reply": "2024-10-02T15:43:54.727955Z"
    },
    "papermill": {
     "duration": 0.096815,
     "end_time": "2024-10-02T15:43:54.731744",
     "exception": false,
     "start_time": "2024-10-02T15:43:54.634929",
     "status": "completed"
    },
    "tags": []
   },
   "outputs": [
    {
     "data": {
      "text/html": [
       "<div>\n",
       "<style scoped>\n",
       "    .dataframe tbody tr th:only-of-type {\n",
       "        vertical-align: middle;\n",
       "    }\n",
       "\n",
       "    .dataframe tbody tr th {\n",
       "        vertical-align: top;\n",
       "    }\n",
       "\n",
       "    .dataframe thead th {\n",
       "        text-align: right;\n",
       "    }\n",
       "</style>\n",
       "<table border=\"1\" class=\"dataframe\">\n",
       "  <thead>\n",
       "    <tr style=\"text-align: right;\">\n",
       "      <th></th>\n",
       "      <th>person_home_ownership</th>\n",
       "      <th>loan_intent</th>\n",
       "      <th>loan_grade</th>\n",
       "      <th>cb_person_default_on_file</th>\n",
       "    </tr>\n",
       "  </thead>\n",
       "  <tbody>\n",
       "    <tr>\n",
       "      <th>0</th>\n",
       "      <td>3</td>\n",
       "      <td>1</td>\n",
       "      <td>1</td>\n",
       "      <td>0</td>\n",
       "    </tr>\n",
       "    <tr>\n",
       "      <th>1</th>\n",
       "      <td>2</td>\n",
       "      <td>3</td>\n",
       "      <td>2</td>\n",
       "      <td>0</td>\n",
       "    </tr>\n",
       "    <tr>\n",
       "      <th>2</th>\n",
       "      <td>2</td>\n",
       "      <td>4</td>\n",
       "      <td>0</td>\n",
       "      <td>0</td>\n",
       "    </tr>\n",
       "  </tbody>\n",
       "</table>\n",
       "</div>"
      ],
      "text/plain": [
       "   person_home_ownership  loan_intent  loan_grade  cb_person_default_on_file\n",
       "0                      3            1           1                          0\n",
       "1                      2            3           2                          0\n",
       "2                      2            4           0                          0"
      ]
     },
     "execution_count": 13,
     "metadata": {},
     "output_type": "execute_result"
    }
   ],
   "source": [
    "#this function encode the categorical columns\n",
    "lab_enc = LabelEncoder()\n",
    "def encoder(data):\n",
    "    #encoding\n",
    "    for col in data.columns:\n",
    "        data[col] = lab_enc.fit_transform(data[col])\n",
    "    return data.head(3)\n",
    "\n",
    "encoder(cat_cols)"
   ]
  },
  {
   "cell_type": "code",
   "execution_count": 14,
   "id": "50567270",
   "metadata": {
    "execution": {
     "iopub.execute_input": "2024-10-02T15:43:54.764244Z",
     "iopub.status.busy": "2024-10-02T15:43:54.763767Z",
     "iopub.status.idle": "2024-10-02T15:43:54.789319Z",
     "shell.execute_reply": "2024-10-02T15:43:54.788251Z"
    },
    "papermill": {
     "duration": 0.044577,
     "end_time": "2024-10-02T15:43:54.791660",
     "exception": false,
     "start_time": "2024-10-02T15:43:54.747083",
     "status": "completed"
    },
    "tags": []
   },
   "outputs": [
    {
     "data": {
      "text/html": [
       "<div>\n",
       "<style scoped>\n",
       "    .dataframe tbody tr th:only-of-type {\n",
       "        vertical-align: middle;\n",
       "    }\n",
       "\n",
       "    .dataframe tbody tr th {\n",
       "        vertical-align: top;\n",
       "    }\n",
       "\n",
       "    .dataframe thead th {\n",
       "        text-align: right;\n",
       "    }\n",
       "</style>\n",
       "<table border=\"1\" class=\"dataframe\">\n",
       "  <thead>\n",
       "    <tr style=\"text-align: right;\">\n",
       "      <th></th>\n",
       "      <th>person_age</th>\n",
       "      <th>person_income</th>\n",
       "      <th>person_emp_length</th>\n",
       "      <th>loan_amnt</th>\n",
       "      <th>loan_int_rate</th>\n",
       "      <th>loan_percent_income</th>\n",
       "      <th>cb_person_cred_hist_length</th>\n",
       "      <th>loan_status</th>\n",
       "      <th>person_home_ownership</th>\n",
       "      <th>loan_intent</th>\n",
       "      <th>loan_grade</th>\n",
       "      <th>cb_person_default_on_file</th>\n",
       "    </tr>\n",
       "  </thead>\n",
       "  <tbody>\n",
       "    <tr>\n",
       "      <th>0</th>\n",
       "      <td>37</td>\n",
       "      <td>35000</td>\n",
       "      <td>0.0</td>\n",
       "      <td>6000</td>\n",
       "      <td>11.49</td>\n",
       "      <td>0.17</td>\n",
       "      <td>14</td>\n",
       "      <td>0</td>\n",
       "      <td>3</td>\n",
       "      <td>1</td>\n",
       "      <td>1</td>\n",
       "      <td>0</td>\n",
       "    </tr>\n",
       "    <tr>\n",
       "      <th>1</th>\n",
       "      <td>22</td>\n",
       "      <td>56000</td>\n",
       "      <td>6.0</td>\n",
       "      <td>4000</td>\n",
       "      <td>13.35</td>\n",
       "      <td>0.07</td>\n",
       "      <td>2</td>\n",
       "      <td>0</td>\n",
       "      <td>2</td>\n",
       "      <td>3</td>\n",
       "      <td>2</td>\n",
       "      <td>0</td>\n",
       "    </tr>\n",
       "  </tbody>\n",
       "</table>\n",
       "</div>"
      ],
      "text/plain": [
       "   person_age  person_income  person_emp_length  loan_amnt  loan_int_rate  \\\n",
       "0          37          35000                0.0       6000          11.49   \n",
       "1          22          56000                6.0       4000          13.35   \n",
       "\n",
       "   loan_percent_income  cb_person_cred_hist_length  loan_status  \\\n",
       "0                 0.17                          14            0   \n",
       "1                 0.07                           2            0   \n",
       "\n",
       "   person_home_ownership  loan_intent  loan_grade  cb_person_default_on_file  \n",
       "0                      3            1           1                          0  \n",
       "1                      2            3           2                          0  "
      ]
     },
     "execution_count": 14,
     "metadata": {},
     "output_type": "execute_result"
    }
   ],
   "source": [
    "train = pd.concat([num_cols, cat_cols], axis=1)\n",
    "train.head(2)"
   ]
  },
  {
   "cell_type": "code",
   "execution_count": 15,
   "id": "0cd1ff95",
   "metadata": {
    "execution": {
     "iopub.execute_input": "2024-10-02T15:43:54.825531Z",
     "iopub.status.busy": "2024-10-02T15:43:54.824620Z",
     "iopub.status.idle": "2024-10-02T15:43:54.844086Z",
     "shell.execute_reply": "2024-10-02T15:43:54.842918Z"
    },
    "papermill": {
     "duration": 0.039025,
     "end_time": "2024-10-02T15:43:54.846759",
     "exception": false,
     "start_time": "2024-10-02T15:43:54.807734",
     "status": "completed"
    },
    "tags": []
   },
   "outputs": [
    {
     "data": {
      "text/html": [
       "<div>\n",
       "<style scoped>\n",
       "    .dataframe tbody tr th:only-of-type {\n",
       "        vertical-align: middle;\n",
       "    }\n",
       "\n",
       "    .dataframe tbody tr th {\n",
       "        vertical-align: top;\n",
       "    }\n",
       "\n",
       "    .dataframe thead th {\n",
       "        text-align: right;\n",
       "    }\n",
       "</style>\n",
       "<table border=\"1\" class=\"dataframe\">\n",
       "  <thead>\n",
       "    <tr style=\"text-align: right;\">\n",
       "      <th></th>\n",
       "      <th>person_age</th>\n",
       "      <th>person_income</th>\n",
       "      <th>person_emp_length</th>\n",
       "      <th>loan_amnt</th>\n",
       "      <th>loan_int_rate</th>\n",
       "      <th>loan_percent_income</th>\n",
       "      <th>cb_person_cred_hist_length</th>\n",
       "      <th>person_home_ownership</th>\n",
       "      <th>loan_intent</th>\n",
       "      <th>loan_grade</th>\n",
       "      <th>cb_person_default_on_file</th>\n",
       "    </tr>\n",
       "  </thead>\n",
       "  <tbody>\n",
       "    <tr>\n",
       "      <th>0</th>\n",
       "      <td>37</td>\n",
       "      <td>35000</td>\n",
       "      <td>0.0</td>\n",
       "      <td>6000</td>\n",
       "      <td>11.49</td>\n",
       "      <td>0.17</td>\n",
       "      <td>14</td>\n",
       "      <td>3</td>\n",
       "      <td>1</td>\n",
       "      <td>1</td>\n",
       "      <td>0</td>\n",
       "    </tr>\n",
       "    <tr>\n",
       "      <th>1</th>\n",
       "      <td>22</td>\n",
       "      <td>56000</td>\n",
       "      <td>6.0</td>\n",
       "      <td>4000</td>\n",
       "      <td>13.35</td>\n",
       "      <td>0.07</td>\n",
       "      <td>2</td>\n",
       "      <td>2</td>\n",
       "      <td>3</td>\n",
       "      <td>2</td>\n",
       "      <td>0</td>\n",
       "    </tr>\n",
       "  </tbody>\n",
       "</table>\n",
       "</div>"
      ],
      "text/plain": [
       "   person_age  person_income  person_emp_length  loan_amnt  loan_int_rate  \\\n",
       "0          37          35000                0.0       6000          11.49   \n",
       "1          22          56000                6.0       4000          13.35   \n",
       "\n",
       "   loan_percent_income  cb_person_cred_hist_length  person_home_ownership  \\\n",
       "0                 0.17                          14                      3   \n",
       "1                 0.07                           2                      2   \n",
       "\n",
       "   loan_intent  loan_grade  cb_person_default_on_file  \n",
       "0            1           1                          0  \n",
       "1            3           2                          0  "
      ]
     },
     "execution_count": 15,
     "metadata": {},
     "output_type": "execute_result"
    }
   ],
   "source": [
    "X = train.drop('loan_status', axis=1)\n",
    "y = train.loan_status\n",
    "X.head(2)"
   ]
  },
  {
   "cell_type": "code",
   "execution_count": 16,
   "id": "251875ca",
   "metadata": {
    "execution": {
     "iopub.execute_input": "2024-10-02T15:43:54.880118Z",
     "iopub.status.busy": "2024-10-02T15:43:54.879652Z",
     "iopub.status.idle": "2024-10-02T15:43:54.912150Z",
     "shell.execute_reply": "2024-10-02T15:43:54.911126Z"
    },
    "papermill": {
     "duration": 0.052225,
     "end_time": "2024-10-02T15:43:54.914742",
     "exception": false,
     "start_time": "2024-10-02T15:43:54.862517",
     "status": "completed"
    },
    "tags": []
   },
   "outputs": [
    {
     "data": {
      "text/html": [
       "<div>\n",
       "<style scoped>\n",
       "    .dataframe tbody tr th:only-of-type {\n",
       "        vertical-align: middle;\n",
       "    }\n",
       "\n",
       "    .dataframe tbody tr th {\n",
       "        vertical-align: top;\n",
       "    }\n",
       "\n",
       "    .dataframe thead th {\n",
       "        text-align: right;\n",
       "    }\n",
       "</style>\n",
       "<table border=\"1\" class=\"dataframe\">\n",
       "  <thead>\n",
       "    <tr style=\"text-align: right;\">\n",
       "      <th></th>\n",
       "      <th>0</th>\n",
       "      <th>1</th>\n",
       "      <th>2</th>\n",
       "      <th>3</th>\n",
       "      <th>4</th>\n",
       "      <th>5</th>\n",
       "      <th>6</th>\n",
       "      <th>7</th>\n",
       "      <th>8</th>\n",
       "      <th>9</th>\n",
       "      <th>10</th>\n",
       "    </tr>\n",
       "  </thead>\n",
       "  <tbody>\n",
       "    <tr>\n",
       "      <th>0</th>\n",
       "      <td>0.165049</td>\n",
       "      <td>0.016246</td>\n",
       "      <td>0.00000</td>\n",
       "      <td>0.159420</td>\n",
       "      <td>0.341011</td>\n",
       "      <td>0.204819</td>\n",
       "      <td>0.428571</td>\n",
       "      <td>1.000000</td>\n",
       "      <td>0.2</td>\n",
       "      <td>0.166667</td>\n",
       "      <td>0.0</td>\n",
       "    </tr>\n",
       "    <tr>\n",
       "      <th>1</th>\n",
       "      <td>0.019417</td>\n",
       "      <td>0.027324</td>\n",
       "      <td>0.04878</td>\n",
       "      <td>0.101449</td>\n",
       "      <td>0.445506</td>\n",
       "      <td>0.084337</td>\n",
       "      <td>0.000000</td>\n",
       "      <td>0.666667</td>\n",
       "      <td>0.6</td>\n",
       "      <td>0.333333</td>\n",
       "      <td>0.0</td>\n",
       "    </tr>\n",
       "  </tbody>\n",
       "</table>\n",
       "</div>"
      ],
      "text/plain": [
       "         0         1        2         3         4         5         6   \\\n",
       "0  0.165049  0.016246  0.00000  0.159420  0.341011  0.204819  0.428571   \n",
       "1  0.019417  0.027324  0.04878  0.101449  0.445506  0.084337  0.000000   \n",
       "\n",
       "         7    8         9    10  \n",
       "0  1.000000  0.2  0.166667  0.0  \n",
       "1  0.666667  0.6  0.333333  0.0  "
      ]
     },
     "execution_count": 16,
     "metadata": {},
     "output_type": "execute_result"
    }
   ],
   "source": [
    "#scalling\n",
    "scaler = MinMaxScaler(feature_range=(0, 1))\n",
    "X = pd.DataFrame(scaler.fit_transform(X))\n",
    "X.head(2)"
   ]
  },
  {
   "cell_type": "code",
   "execution_count": 17,
   "id": "fb6c0da9",
   "metadata": {
    "execution": {
     "iopub.execute_input": "2024-10-02T15:43:54.948360Z",
     "iopub.status.busy": "2024-10-02T15:43:54.947935Z",
     "iopub.status.idle": "2024-10-02T15:43:54.966808Z",
     "shell.execute_reply": "2024-10-02T15:43:54.964699Z"
    },
    "papermill": {
     "duration": 0.03899,
     "end_time": "2024-10-02T15:43:54.969649",
     "exception": false,
     "start_time": "2024-10-02T15:43:54.930659",
     "status": "completed"
    },
    "tags": []
   },
   "outputs": [
    {
     "name": "stdout",
     "output_type": "stream",
     "text": [
      "[46916, 11]\n",
      "[11729, 11]\n",
      "[46916]\n",
      "[11729]\n"
     ]
    }
   ],
   "source": [
    "X_train, X_val, y_train, y_val = train_test_split(X, y, test_size=0.2, random_state=10)\n",
    "# Check shapes\n",
    "for i in (X_train, X_val, y_train, y_val):\n",
    "    print(list(i.shape))"
   ]
  },
  {
   "cell_type": "markdown",
   "id": "f4354dba",
   "metadata": {
    "papermill": {
     "duration": 0.016033,
     "end_time": "2024-10-02T15:43:55.002003",
     "exception": false,
     "start_time": "2024-10-02T15:43:54.985970",
     "status": "completed"
    },
    "tags": []
   },
   "source": [
    "***MODELS***"
   ]
  },
  {
   "cell_type": "code",
   "execution_count": 18,
   "id": "c0d0b075",
   "metadata": {
    "execution": {
     "iopub.execute_input": "2024-10-02T15:43:55.036803Z",
     "iopub.status.busy": "2024-10-02T15:43:55.035746Z",
     "iopub.status.idle": "2024-10-02T15:43:55.042595Z",
     "shell.execute_reply": "2024-10-02T15:43:55.041352Z"
    },
    "papermill": {
     "duration": 0.026887,
     "end_time": "2024-10-02T15:43:55.045025",
     "exception": false,
     "start_time": "2024-10-02T15:43:55.018138",
     "status": "completed"
    },
    "tags": []
   },
   "outputs": [],
   "source": [
    "# Create LightGBM Datasets for training and validation \n",
    "train_data = lgb.Dataset(X_train, label=y_train) \n",
    "test_data = lgb.Dataset(X_val, label=y_val, reference=train_data) \n",
    "  \n",
    "# Define hyperparameters and objective for LightGBM \n",
    "params = { \n",
    "    'objective': 'binary', \n",
    "    'metric': 'auc', \n",
    "    'boosting_type': 'gbdt', \n",
    "    'num_leaves': 31, \n",
    "    'learning_rate': 0.05, \n",
    "    'feature_fraction': 0.9,\n",
    "    'random_state' : 10\n",
    "} "
   ]
  },
  {
   "cell_type": "code",
   "execution_count": 19,
   "id": "739bc15e",
   "metadata": {
    "execution": {
     "iopub.execute_input": "2024-10-02T15:43:55.080992Z",
     "iopub.status.busy": "2024-10-02T15:43:55.079863Z",
     "iopub.status.idle": "2024-10-02T15:43:56.158142Z",
     "shell.execute_reply": "2024-10-02T15:43:56.156801Z"
    },
    "papermill": {
     "duration": 1.09935,
     "end_time": "2024-10-02T15:43:56.160858",
     "exception": false,
     "start_time": "2024-10-02T15:43:55.061508",
     "status": "completed"
    },
    "tags": []
   },
   "outputs": [
    {
     "name": "stdout",
     "output_type": "stream",
     "text": [
      "[LightGBM] [Info] Number of positive: 6709, number of negative: 40207\n",
      "[LightGBM] [Info] Auto-choosing col-wise multi-threading, the overhead of testing was 0.008011 seconds.\n",
      "You can set `force_col_wise=true` to remove the overhead.\n",
      "[LightGBM] [Info] Total Bins 838\n",
      "[LightGBM] [Info] Number of data points in the train set: 46916, number of used features: 11\n",
      "[LightGBM] [Info] [binary:BoostFromScore]: pavg=0.143000 -> initscore=-1.790591\n",
      "[LightGBM] [Info] Start training from score -1.790591\n"
     ]
    }
   ],
   "source": [
    "#rounds\n",
    "num_round = 100\n",
    "  \n",
    "lgb_model = lgb.train(params, train_data, \n",
    "                  num_round, valid_sets=[test_data]) "
   ]
  },
  {
   "cell_type": "code",
   "execution_count": 20,
   "id": "2fb49644",
   "metadata": {
    "execution": {
     "iopub.execute_input": "2024-10-02T15:43:56.196822Z",
     "iopub.status.busy": "2024-10-02T15:43:56.196361Z",
     "iopub.status.idle": "2024-10-02T15:43:56.243297Z",
     "shell.execute_reply": "2024-10-02T15:43:56.241904Z"
    },
    "papermill": {
     "duration": 0.06781,
     "end_time": "2024-10-02T15:43:56.245924",
     "exception": false,
     "start_time": "2024-10-02T15:43:56.178114",
     "status": "completed"
    },
    "tags": []
   },
   "outputs": [
    {
     "name": "stdout",
     "output_type": "stream",
     "text": [
      "Accuracy: 0.96%\n"
     ]
    }
   ],
   "source": [
    "lgb_pred = lgb_model.predict(X_val)\n",
    "score = roc_auc_score(y_val, lgb_pred)\n",
    "print(f\"Accuracy: {score:.2f}%\")"
   ]
  },
  {
   "cell_type": "markdown",
   "id": "26e81de7",
   "metadata": {
    "papermill": {
     "duration": 0.016973,
     "end_time": "2024-10-02T15:43:56.280186",
     "exception": false,
     "start_time": "2024-10-02T15:43:56.263213",
     "status": "completed"
    },
    "tags": []
   },
   "source": [
    "***PREDICTION ON TEST***"
   ]
  },
  {
   "cell_type": "code",
   "execution_count": 21,
   "id": "10b3844a",
   "metadata": {
    "execution": {
     "iopub.execute_input": "2024-10-02T15:43:56.314704Z",
     "iopub.status.busy": "2024-10-02T15:43:56.314287Z",
     "iopub.status.idle": "2024-10-02T15:43:56.329103Z",
     "shell.execute_reply": "2024-10-02T15:43:56.327634Z"
    },
    "papermill": {
     "duration": 0.035115,
     "end_time": "2024-10-02T15:43:56.331671",
     "exception": false,
     "start_time": "2024-10-02T15:43:56.296556",
     "status": "completed"
    },
    "tags": []
   },
   "outputs": [
    {
     "data": {
      "text/html": [
       "<div>\n",
       "<style scoped>\n",
       "    .dataframe tbody tr th:only-of-type {\n",
       "        vertical-align: middle;\n",
       "    }\n",
       "\n",
       "    .dataframe tbody tr th {\n",
       "        vertical-align: top;\n",
       "    }\n",
       "\n",
       "    .dataframe thead th {\n",
       "        text-align: right;\n",
       "    }\n",
       "</style>\n",
       "<table border=\"1\" class=\"dataframe\">\n",
       "  <thead>\n",
       "    <tr style=\"text-align: right;\">\n",
       "      <th></th>\n",
       "      <th>person_home_ownership</th>\n",
       "      <th>loan_intent</th>\n",
       "      <th>loan_grade</th>\n",
       "      <th>cb_person_default_on_file</th>\n",
       "    </tr>\n",
       "  </thead>\n",
       "  <tbody>\n",
       "    <tr>\n",
       "      <th>0</th>\n",
       "      <td>RENT</td>\n",
       "      <td>HOMEIMPROVEMENT</td>\n",
       "      <td>F</td>\n",
       "      <td>N</td>\n",
       "    </tr>\n",
       "    <tr>\n",
       "      <th>1</th>\n",
       "      <td>MORTGAGE</td>\n",
       "      <td>PERSONAL</td>\n",
       "      <td>C</td>\n",
       "      <td>Y</td>\n",
       "    </tr>\n",
       "  </tbody>\n",
       "</table>\n",
       "</div>"
      ],
      "text/plain": [
       "  person_home_ownership      loan_intent loan_grade cb_person_default_on_file\n",
       "0                  RENT  HOMEIMPROVEMENT          F                         N\n",
       "1              MORTGAGE         PERSONAL          C                         Y"
      ]
     },
     "execution_count": 21,
     "metadata": {},
     "output_type": "execute_result"
    }
   ],
   "source": [
    "#categorical columns\n",
    "tst_cat_cols = tst.select_dtypes(include=['object'])\n",
    "tst_cat_cols.head(2)"
   ]
  },
  {
   "cell_type": "code",
   "execution_count": 22,
   "id": "dd046383",
   "metadata": {
    "execution": {
     "iopub.execute_input": "2024-10-02T15:43:56.367225Z",
     "iopub.status.busy": "2024-10-02T15:43:56.366724Z",
     "iopub.status.idle": "2024-10-02T15:43:56.382751Z",
     "shell.execute_reply": "2024-10-02T15:43:56.381617Z"
    },
    "papermill": {
     "duration": 0.036809,
     "end_time": "2024-10-02T15:43:56.385547",
     "exception": false,
     "start_time": "2024-10-02T15:43:56.348738",
     "status": "completed"
    },
    "tags": []
   },
   "outputs": [
    {
     "data": {
      "text/html": [
       "<div>\n",
       "<style scoped>\n",
       "    .dataframe tbody tr th:only-of-type {\n",
       "        vertical-align: middle;\n",
       "    }\n",
       "\n",
       "    .dataframe tbody tr th {\n",
       "        vertical-align: top;\n",
       "    }\n",
       "\n",
       "    .dataframe thead th {\n",
       "        text-align: right;\n",
       "    }\n",
       "</style>\n",
       "<table border=\"1\" class=\"dataframe\">\n",
       "  <thead>\n",
       "    <tr style=\"text-align: right;\">\n",
       "      <th></th>\n",
       "      <th>person_age</th>\n",
       "      <th>person_income</th>\n",
       "      <th>person_emp_length</th>\n",
       "      <th>loan_amnt</th>\n",
       "      <th>loan_int_rate</th>\n",
       "      <th>loan_percent_income</th>\n",
       "      <th>cb_person_cred_hist_length</th>\n",
       "    </tr>\n",
       "  </thead>\n",
       "  <tbody>\n",
       "    <tr>\n",
       "      <th>0</th>\n",
       "      <td>23</td>\n",
       "      <td>69000</td>\n",
       "      <td>3.0</td>\n",
       "      <td>25000</td>\n",
       "      <td>15.76</td>\n",
       "      <td>0.36</td>\n",
       "      <td>2</td>\n",
       "    </tr>\n",
       "    <tr>\n",
       "      <th>1</th>\n",
       "      <td>26</td>\n",
       "      <td>96000</td>\n",
       "      <td>6.0</td>\n",
       "      <td>10000</td>\n",
       "      <td>12.68</td>\n",
       "      <td>0.10</td>\n",
       "      <td>4</td>\n",
       "    </tr>\n",
       "  </tbody>\n",
       "</table>\n",
       "</div>"
      ],
      "text/plain": [
       "   person_age  person_income  person_emp_length  loan_amnt  loan_int_rate  \\\n",
       "0          23          69000                3.0      25000          15.76   \n",
       "1          26          96000                6.0      10000          12.68   \n",
       "\n",
       "   loan_percent_income  cb_person_cred_hist_length  \n",
       "0                 0.36                           2  \n",
       "1                 0.10                           4  "
      ]
     },
     "execution_count": 22,
     "metadata": {},
     "output_type": "execute_result"
    }
   ],
   "source": [
    "tst_num_cols = tst.select_dtypes(include=['int', 'float'])\n",
    "tst_num_cols.head(2)"
   ]
  },
  {
   "cell_type": "code",
   "execution_count": 23,
   "id": "134a1884",
   "metadata": {
    "execution": {
     "iopub.execute_input": "2024-10-02T15:43:56.421618Z",
     "iopub.status.busy": "2024-10-02T15:43:56.421150Z",
     "iopub.status.idle": "2024-10-02T15:43:56.478221Z",
     "shell.execute_reply": "2024-10-02T15:43:56.476977Z"
    },
    "papermill": {
     "duration": 0.07788,
     "end_time": "2024-10-02T15:43:56.480847",
     "exception": false,
     "start_time": "2024-10-02T15:43:56.402967",
     "status": "completed"
    },
    "tags": []
   },
   "outputs": [
    {
     "data": {
      "text/html": [
       "<div>\n",
       "<style scoped>\n",
       "    .dataframe tbody tr th:only-of-type {\n",
       "        vertical-align: middle;\n",
       "    }\n",
       "\n",
       "    .dataframe tbody tr th {\n",
       "        vertical-align: top;\n",
       "    }\n",
       "\n",
       "    .dataframe thead th {\n",
       "        text-align: right;\n",
       "    }\n",
       "</style>\n",
       "<table border=\"1\" class=\"dataframe\">\n",
       "  <thead>\n",
       "    <tr style=\"text-align: right;\">\n",
       "      <th></th>\n",
       "      <th>person_home_ownership</th>\n",
       "      <th>loan_intent</th>\n",
       "      <th>loan_grade</th>\n",
       "      <th>cb_person_default_on_file</th>\n",
       "    </tr>\n",
       "  </thead>\n",
       "  <tbody>\n",
       "    <tr>\n",
       "      <th>0</th>\n",
       "      <td>3</td>\n",
       "      <td>2</td>\n",
       "      <td>5</td>\n",
       "      <td>0</td>\n",
       "    </tr>\n",
       "    <tr>\n",
       "      <th>1</th>\n",
       "      <td>0</td>\n",
       "      <td>4</td>\n",
       "      <td>2</td>\n",
       "      <td>1</td>\n",
       "    </tr>\n",
       "    <tr>\n",
       "      <th>2</th>\n",
       "      <td>3</td>\n",
       "      <td>5</td>\n",
       "      <td>4</td>\n",
       "      <td>1</td>\n",
       "    </tr>\n",
       "  </tbody>\n",
       "</table>\n",
       "</div>"
      ],
      "text/plain": [
       "   person_home_ownership  loan_intent  loan_grade  cb_person_default_on_file\n",
       "0                      3            2           5                          0\n",
       "1                      0            4           2                          1\n",
       "2                      3            5           4                          1"
      ]
     },
     "execution_count": 23,
     "metadata": {},
     "output_type": "execute_result"
    }
   ],
   "source": [
    "encoder(tst_cat_cols)"
   ]
  },
  {
   "cell_type": "code",
   "execution_count": 24,
   "id": "6859bed8",
   "metadata": {
    "execution": {
     "iopub.execute_input": "2024-10-02T15:43:56.517587Z",
     "iopub.status.busy": "2024-10-02T15:43:56.516666Z",
     "iopub.status.idle": "2024-10-02T15:43:56.536566Z",
     "shell.execute_reply": "2024-10-02T15:43:56.535367Z"
    },
    "papermill": {
     "duration": 0.041431,
     "end_time": "2024-10-02T15:43:56.539435",
     "exception": false,
     "start_time": "2024-10-02T15:43:56.498004",
     "status": "completed"
    },
    "tags": []
   },
   "outputs": [
    {
     "data": {
      "text/html": [
       "<div>\n",
       "<style scoped>\n",
       "    .dataframe tbody tr th:only-of-type {\n",
       "        vertical-align: middle;\n",
       "    }\n",
       "\n",
       "    .dataframe tbody tr th {\n",
       "        vertical-align: top;\n",
       "    }\n",
       "\n",
       "    .dataframe thead th {\n",
       "        text-align: right;\n",
       "    }\n",
       "</style>\n",
       "<table border=\"1\" class=\"dataframe\">\n",
       "  <thead>\n",
       "    <tr style=\"text-align: right;\">\n",
       "      <th></th>\n",
       "      <th>person_age</th>\n",
       "      <th>person_income</th>\n",
       "      <th>person_emp_length</th>\n",
       "      <th>loan_amnt</th>\n",
       "      <th>loan_int_rate</th>\n",
       "      <th>loan_percent_income</th>\n",
       "      <th>cb_person_cred_hist_length</th>\n",
       "      <th>person_home_ownership</th>\n",
       "      <th>loan_intent</th>\n",
       "      <th>loan_grade</th>\n",
       "      <th>cb_person_default_on_file</th>\n",
       "    </tr>\n",
       "  </thead>\n",
       "  <tbody>\n",
       "    <tr>\n",
       "      <th>0</th>\n",
       "      <td>23</td>\n",
       "      <td>69000</td>\n",
       "      <td>3.0</td>\n",
       "      <td>25000</td>\n",
       "      <td>15.76</td>\n",
       "      <td>0.36</td>\n",
       "      <td>2</td>\n",
       "      <td>3</td>\n",
       "      <td>2</td>\n",
       "      <td>5</td>\n",
       "      <td>0</td>\n",
       "    </tr>\n",
       "    <tr>\n",
       "      <th>1</th>\n",
       "      <td>26</td>\n",
       "      <td>96000</td>\n",
       "      <td>6.0</td>\n",
       "      <td>10000</td>\n",
       "      <td>12.68</td>\n",
       "      <td>0.10</td>\n",
       "      <td>4</td>\n",
       "      <td>0</td>\n",
       "      <td>4</td>\n",
       "      <td>2</td>\n",
       "      <td>1</td>\n",
       "    </tr>\n",
       "  </tbody>\n",
       "</table>\n",
       "</div>"
      ],
      "text/plain": [
       "   person_age  person_income  person_emp_length  loan_amnt  loan_int_rate  \\\n",
       "0          23          69000                3.0      25000          15.76   \n",
       "1          26          96000                6.0      10000          12.68   \n",
       "\n",
       "   loan_percent_income  cb_person_cred_hist_length  person_home_ownership  \\\n",
       "0                 0.36                           2                      3   \n",
       "1                 0.10                           4                      0   \n",
       "\n",
       "   loan_intent  loan_grade  cb_person_default_on_file  \n",
       "0            2           5                          0  \n",
       "1            4           2                          1  "
      ]
     },
     "execution_count": 24,
     "metadata": {},
     "output_type": "execute_result"
    }
   ],
   "source": [
    "X_test = pd.concat([tst_num_cols, tst_cat_cols], axis=1)\n",
    "X_test.head(2)"
   ]
  },
  {
   "cell_type": "code",
   "execution_count": 25,
   "id": "e9d8aadb",
   "metadata": {
    "execution": {
     "iopub.execute_input": "2024-10-02T15:43:56.576939Z",
     "iopub.status.busy": "2024-10-02T15:43:56.576429Z",
     "iopub.status.idle": "2024-10-02T15:43:56.607207Z",
     "shell.execute_reply": "2024-10-02T15:43:56.605972Z"
    },
    "papermill": {
     "duration": 0.052789,
     "end_time": "2024-10-02T15:43:56.609926",
     "exception": false,
     "start_time": "2024-10-02T15:43:56.557137",
     "status": "completed"
    },
    "tags": []
   },
   "outputs": [
    {
     "data": {
      "text/html": [
       "<div>\n",
       "<style scoped>\n",
       "    .dataframe tbody tr th:only-of-type {\n",
       "        vertical-align: middle;\n",
       "    }\n",
       "\n",
       "    .dataframe tbody tr th {\n",
       "        vertical-align: top;\n",
       "    }\n",
       "\n",
       "    .dataframe thead th {\n",
       "        text-align: right;\n",
       "    }\n",
       "</style>\n",
       "<table border=\"1\" class=\"dataframe\">\n",
       "  <thead>\n",
       "    <tr style=\"text-align: right;\">\n",
       "      <th></th>\n",
       "      <th>0</th>\n",
       "      <th>1</th>\n",
       "      <th>2</th>\n",
       "      <th>3</th>\n",
       "      <th>4</th>\n",
       "      <th>5</th>\n",
       "      <th>6</th>\n",
       "      <th>7</th>\n",
       "      <th>8</th>\n",
       "      <th>9</th>\n",
       "      <th>10</th>\n",
       "    </tr>\n",
       "  </thead>\n",
       "  <tbody>\n",
       "    <tr>\n",
       "      <th>0</th>\n",
       "      <td>0.040541</td>\n",
       "      <td>0.034283</td>\n",
       "      <td>0.071429</td>\n",
       "      <td>0.708455</td>\n",
       "      <td>0.619533</td>\n",
       "      <td>0.493151</td>\n",
       "      <td>0.000000</td>\n",
       "      <td>1.0</td>\n",
       "      <td>0.4</td>\n",
       "      <td>0.833333</td>\n",
       "      <td>0.0</td>\n",
       "    </tr>\n",
       "    <tr>\n",
       "      <th>1</th>\n",
       "      <td>0.081081</td>\n",
       "      <td>0.048523</td>\n",
       "      <td>0.142857</td>\n",
       "      <td>0.271137</td>\n",
       "      <td>0.434991</td>\n",
       "      <td>0.136986</td>\n",
       "      <td>0.071429</td>\n",
       "      <td>0.0</td>\n",
       "      <td>0.8</td>\n",
       "      <td>0.333333</td>\n",
       "      <td>1.0</td>\n",
       "    </tr>\n",
       "  </tbody>\n",
       "</table>\n",
       "</div>"
      ],
      "text/plain": [
       "         0         1         2         3         4         5         6    7   \\\n",
       "0  0.040541  0.034283  0.071429  0.708455  0.619533  0.493151  0.000000  1.0   \n",
       "1  0.081081  0.048523  0.142857  0.271137  0.434991  0.136986  0.071429  0.0   \n",
       "\n",
       "    8         9    10  \n",
       "0  0.4  0.833333  0.0  \n",
       "1  0.8  0.333333  1.0  "
      ]
     },
     "execution_count": 25,
     "metadata": {},
     "output_type": "execute_result"
    }
   ],
   "source": [
    "X_test = pd.DataFrame(scaler.fit_transform(X_test))\n",
    "X_test.head(2)"
   ]
  },
  {
   "cell_type": "code",
   "execution_count": 26,
   "id": "acc7ea23",
   "metadata": {
    "execution": {
     "iopub.execute_input": "2024-10-02T15:43:56.647037Z",
     "iopub.status.busy": "2024-10-02T15:43:56.646601Z",
     "iopub.status.idle": "2024-10-02T15:43:56.743471Z",
     "shell.execute_reply": "2024-10-02T15:43:56.742181Z"
    },
    "papermill": {
     "duration": 0.118878,
     "end_time": "2024-10-02T15:43:56.746448",
     "exception": false,
     "start_time": "2024-10-02T15:43:56.627570",
     "status": "completed"
    },
    "tags": []
   },
   "outputs": [
    {
     "data": {
      "text/plain": [
       "array([0.92754657, 0.02592764, 0.39392439, ..., 0.02410548, 0.30880972,\n",
       "       0.94654226])"
      ]
     },
     "execution_count": 26,
     "metadata": {},
     "output_type": "execute_result"
    }
   ],
   "source": [
    "prediction = lgb_model.predict(X_test)\n",
    "prediction"
   ]
  },
  {
   "cell_type": "markdown",
   "id": "4cabba0d",
   "metadata": {
    "papermill": {
     "duration": 0.017563,
     "end_time": "2024-10-02T15:43:56.781845",
     "exception": false,
     "start_time": "2024-10-02T15:43:56.764282",
     "status": "completed"
    },
    "tags": []
   },
   "source": [
    "***SUBMISSION***"
   ]
  },
  {
   "cell_type": "code",
   "execution_count": 27,
   "id": "4d7ca5c8",
   "metadata": {
    "execution": {
     "iopub.execute_input": "2024-10-02T15:43:56.819767Z",
     "iopub.status.busy": "2024-10-02T15:43:56.818688Z",
     "iopub.status.idle": "2024-10-02T15:43:56.829816Z",
     "shell.execute_reply": "2024-10-02T15:43:56.828604Z"
    },
    "papermill": {
     "duration": 0.032594,
     "end_time": "2024-10-02T15:43:56.832219",
     "exception": false,
     "start_time": "2024-10-02T15:43:56.799625",
     "status": "completed"
    },
    "tags": []
   },
   "outputs": [
    {
     "data": {
      "text/html": [
       "<div>\n",
       "<style scoped>\n",
       "    .dataframe tbody tr th:only-of-type {\n",
       "        vertical-align: middle;\n",
       "    }\n",
       "\n",
       "    .dataframe tbody tr th {\n",
       "        vertical-align: top;\n",
       "    }\n",
       "\n",
       "    .dataframe thead th {\n",
       "        text-align: right;\n",
       "    }\n",
       "</style>\n",
       "<table border=\"1\" class=\"dataframe\">\n",
       "  <thead>\n",
       "    <tr style=\"text-align: right;\">\n",
       "      <th></th>\n",
       "      <th>id</th>\n",
       "      <th>loan_status</th>\n",
       "    </tr>\n",
       "  </thead>\n",
       "  <tbody>\n",
       "    <tr>\n",
       "      <th>0</th>\n",
       "      <td>58645</td>\n",
       "      <td>0.5</td>\n",
       "    </tr>\n",
       "    <tr>\n",
       "      <th>1</th>\n",
       "      <td>58646</td>\n",
       "      <td>0.5</td>\n",
       "    </tr>\n",
       "  </tbody>\n",
       "</table>\n",
       "</div>"
      ],
      "text/plain": [
       "      id  loan_status\n",
       "0  58645          0.5\n",
       "1  58646          0.5"
      ]
     },
     "execution_count": 27,
     "metadata": {},
     "output_type": "execute_result"
    }
   ],
   "source": [
    "submission = subs\n",
    "submission.head(2)"
   ]
  },
  {
   "cell_type": "code",
   "execution_count": 28,
   "id": "9b5d50f7",
   "metadata": {
    "execution": {
     "iopub.execute_input": "2024-10-02T15:43:56.870149Z",
     "iopub.status.busy": "2024-10-02T15:43:56.869669Z",
     "iopub.status.idle": "2024-10-02T15:43:56.875982Z",
     "shell.execute_reply": "2024-10-02T15:43:56.874829Z"
    },
    "papermill": {
     "duration": 0.02825,
     "end_time": "2024-10-02T15:43:56.878478",
     "exception": false,
     "start_time": "2024-10-02T15:43:56.850228",
     "status": "completed"
    },
    "tags": []
   },
   "outputs": [],
   "source": [
    "submission['loan_status'] = prediction.round(1)"
   ]
  },
  {
   "cell_type": "code",
   "execution_count": 29,
   "id": "426e66c0",
   "metadata": {
    "execution": {
     "iopub.execute_input": "2024-10-02T15:43:56.917020Z",
     "iopub.status.busy": "2024-10-02T15:43:56.916544Z",
     "iopub.status.idle": "2024-10-02T15:43:57.001640Z",
     "shell.execute_reply": "2024-10-02T15:43:57.000600Z"
    },
    "papermill": {
     "duration": 0.107729,
     "end_time": "2024-10-02T15:43:57.004514",
     "exception": false,
     "start_time": "2024-10-02T15:43:56.896785",
     "status": "completed"
    },
    "tags": []
   },
   "outputs": [],
   "source": [
    "submission.to_csv('submission.csv', index=False)"
   ]
  }
 ],
 "metadata": {
  "kaggle": {
   "accelerator": "none",
   "dataSources": [
    {
     "databundleVersionId": 9709193,
     "sourceId": 84894,
     "sourceType": "competition"
    }
   ],
   "dockerImageVersionId": 30775,
   "isGpuEnabled": false,
   "isInternetEnabled": true,
   "language": "python",
   "sourceType": "notebook"
  },
  "kernelspec": {
   "display_name": "Python 3",
   "language": "python",
   "name": "python3"
  },
  "language_info": {
   "codemirror_mode": {
    "name": "ipython",
    "version": 3
   },
   "file_extension": ".py",
   "mimetype": "text/x-python",
   "name": "python",
   "nbconvert_exporter": "python",
   "pygments_lexer": "ipython3",
   "version": "3.10.14"
  },
  "papermill": {
   "default_parameters": {},
   "duration": 15.126985,
   "end_time": "2024-10-02T15:43:57.846275",
   "environment_variables": {},
   "exception": null,
   "input_path": "__notebook__.ipynb",
   "output_path": "__notebook__.ipynb",
   "parameters": {},
   "start_time": "2024-10-02T15:43:42.719290",
   "version": "2.6.0"
  }
 },
 "nbformat": 4,
 "nbformat_minor": 5
}
